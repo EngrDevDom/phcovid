{
 "cells": [
  {
   "cell_type": "markdown",
   "metadata": {},
   "source": [
    "## Part I: Read Data and Pre-Process"
   ]
  },
  {
   "cell_type": "markdown",
   "metadata": {},
   "source": [
    "Import phcovid package"
   ]
  },
  {
   "cell_type": "code",
   "execution_count": 112,
   "metadata": {},
   "outputs": [],
   "source": [
    "import numpy as np\n",
    "import pandas as pd\n",
    "import os, sys\n",
    "package_dir = os.path.normpath(os.getcwd() + os.sep + os.pardir) + os.sep +'phcovid'\n",
    "sys.path.append(package_dir)"
   ]
  },
  {
   "cell_type": "code",
   "execution_count": 86,
   "metadata": {},
   "outputs": [
    {
     "data": {
      "text/plain": [
       "<module 'phcovid' from 'C:\\\\Users\\\\yu.an\\\\Desktop\\\\Media\\\\phcovid\\\\phcovid\\\\phcovid.py'>"
      ]
     },
     "execution_count": 86,
     "metadata": {},
     "output_type": "execute_result"
    }
   ],
   "source": [
    "import phcovid\n",
    "importlib.reload(phcovid)"
   ]
  },
  {
   "cell_type": "markdown",
   "metadata": {},
   "source": [
    "Use get_cases module to extract latest data regarding PH Covid-19 cases in an analysis friendly format"
   ]
  },
  {
   "cell_type": "code",
   "execution_count": 87,
   "metadata": {},
   "outputs": [],
   "source": [
    "df = phcovid.get_cases()"
   ]
  },
  {
   "cell_type": "code",
   "execution_count": 113,
   "metadata": {},
   "outputs": [],
   "source": [
    "#For use in graph analysis, we will create a column with case code [PHX] converted to numeric [X]\n",
    "def parse_ints(s):\n",
    "    num_list = []\n",
    "    for i in s:\n",
    "        num_list = num_list + [i.split('H')[-1]]\n",
    "    return num_list\n",
    "        \n",
    "\n",
    "df['case_no_int'] = df['case_no'].apply(lambda x: x.split('H')[-1]).astype(int)\n",
    "df['contacts_int'] = df['contacts'].apply(lambda x: parse_ints(x))"
   ]
  },
  {
   "cell_type": "markdown",
   "metadata": {},
   "source": [
    "## Part II: Connected Components Analysis"
   ]
  },
  {
   "cell_type": "markdown",
   "metadata": {},
   "source": [
    "<b>Step 1:</b> Create a graph to map all <u>direct connections</u> of each case."
   ]
  },
  {
   "cell_type": "code",
   "execution_count": 114,
   "metadata": {},
   "outputs": [],
   "source": [
    "#Create an undirected graph of all connections\n",
    "contact_map = {}\n",
    "def add_edge(s, d, curr_dict):\n",
    "    try:\n",
    "        curr_dict[s].append(d)\n",
    "    except KeyError:\n",
    "        curr_dict[s] = []\n",
    "        curr_dict[s].append(d)\n",
    "\n",
    "for row in df.itertuples():\n",
    "    current = getattr(row, 'case_no_int')\n",
    "    contact_list = getattr(row, 'contacts_int')\n",
    "    for c in pd.Series(contact_list).unique():\n",
    "        add_edge(int(current), int(c), contact_map)\n",
    "        add_edge(int(c), int(current), contact_map)\n",
    "    \n",
    "    if(len(contact_list)==0):\n",
    "        contact_map[int(current)] = []\n",
    "\n",
    "for key in contact_map.keys():\n",
    "    contact_map[key] = list(set(contact_map[key]))"
   ]
  },
  {
   "cell_type": "markdown",
   "metadata": {},
   "source": [
    "<b>Step 2:</b> Use Depth First Search on the graph built in Step 1 to a.) identify <i>networks</i> of inter-connected cases and b.) count the number of networks and the number of cases in each network."
   ]
  },
  {
   "cell_type": "code",
   "execution_count": 115,
   "metadata": {},
   "outputs": [],
   "source": [
    "cnt = len(df)\n",
    "visited = [False for i in range(1,cnt+2)]\n",
    "visited_pre = [False for i in range(1,cnt+2)]\n",
    "parent = [-1 for i in range(1,cnt+2)]\n",
    "def dfs (v, g):\n",
    "    #dfs from node v in graph (dict) g\n",
    "    visited[v] = True\n",
    "    for node in g[v]:\n",
    "        if(not visited[node]):\n",
    "            parent[node] = v\n",
    "            dfs(node, g)\n",
    "            \n",
    "cnt_cc = 0\n",
    "comp_list = {}\n",
    "for i in range(1, cnt+1):\n",
    "    if(not visited[i]):\n",
    "        cnt_cc+=1\n",
    "        dfs(i, contact_map)\n",
    "        comp_list[cnt_cc-1] = []\n",
    "        \n",
    "        for j in range(1, cnt+1):\n",
    "            if(not visited_pre[j] and visited[j]):\n",
    "                visited_pre[j] = visited[j]\n",
    "                comp_list[cnt_cc-1].append(j)"
   ]
  },
  {
   "cell_type": "markdown",
   "metadata": {},
   "source": [
    "<b>a. Multiple cases, especially the initial ones can be traced to networks of 3+ people where transmission occured.</b> The largest network is comprised of 8 people: [12, 34, 35, 42, 43, 84, 86, 204].\n",
    "<br>\n",
    "<br>\n",
    "<i>List of all networks with 3+ Cases shown below:</i>"
   ]
  },
  {
   "cell_type": "code",
   "execution_count": 116,
   "metadata": {
    "scrolled": true
   },
   "outputs": [
    {
     "name": "stdout",
     "output_type": "stream",
     "text": [
      "List of all Networks with 3+ cases:\n",
      "Network 3: ['PH5', 'PH6', 'PH38']\n",
      "Network 6: ['PH9', 'PH27', 'PH28', 'PH29', 'PH30', 'PH31']\n",
      "Network 9: ['PH12', 'PH34', 'PH35', 'PH42', 'PH43', 'PH84', 'PH86', 'PH204']\n",
      "Network 16: ['PH21', 'PH65', 'PH66', 'PH67']\n",
      "Network 28: ['PH41', 'PH44', 'PH87', 'PH112']\n",
      "Network 33: ['PH49', 'PH52', 'PH183']\n",
      "Network 35: ['PH51', 'PH134', 'PH135']\n",
      "Network 140: ['PH169', 'PH170', 'PH176']\n"
     ]
    }
   ],
   "source": [
    "print(\"List of all Networks with 3+ cases:\")\n",
    "for key in comp_list.keys():\n",
    "    current_list = []\n",
    "    if(len(comp_list[key])>=3):\n",
    "        for i in comp_list[key]:\n",
    "            current_list = current_list + ['PH' + str(i)]\n",
    "        print(f'Network {key}: {current_list}')"
   ]
  },
  {
   "cell_type": "markdown",
   "metadata": {},
   "source": [
    "<b>b. Largest Network (Network 9) has loose connections and is split among multiple hospitals in NCR across 10 days. </b> <br>\n",
    "<i>Network details are shown below:</i>"
   ]
  },
  {
   "cell_type": "code",
   "execution_count": 117,
   "metadata": {},
   "outputs": [
    {
     "data": {
      "text/html": [
       "<div>\n",
       "<style scoped>\n",
       "    .dataframe tbody tr th:only-of-type {\n",
       "        vertical-align: middle;\n",
       "    }\n",
       "\n",
       "    .dataframe tbody tr th {\n",
       "        vertical-align: top;\n",
       "    }\n",
       "\n",
       "    .dataframe thead th {\n",
       "        text-align: right;\n",
       "    }\n",
       "</style>\n",
       "<table border=\"1\" class=\"dataframe\">\n",
       "  <thead>\n",
       "    <tr style=\"text-align: right;\">\n",
       "      <th></th>\n",
       "      <th>case_no</th>\n",
       "      <th>age</th>\n",
       "      <th>sex</th>\n",
       "      <th>nationality</th>\n",
       "      <th>residence</th>\n",
       "      <th>travel_history</th>\n",
       "      <th>symptoms</th>\n",
       "      <th>confirmation_date</th>\n",
       "      <th>facility</th>\n",
       "      <th>latitude</th>\n",
       "      <th>longitude</th>\n",
       "      <th>status</th>\n",
       "      <th>epi_link</th>\n",
       "      <th>date</th>\n",
       "      <th>contacts</th>\n",
       "      <th>num_contacts</th>\n",
       "      <th>case_no_int</th>\n",
       "      <th>contacts_int</th>\n",
       "    </tr>\n",
       "  </thead>\n",
       "  <tbody>\n",
       "    <tr>\n",
       "      <th>22</th>\n",
       "      <td>PH12</td>\n",
       "      <td>56</td>\n",
       "      <td>Male</td>\n",
       "      <td>Filipino</td>\n",
       "      <td>Manila City</td>\n",
       "      <td>Contact of PH42, PH43</td>\n",
       "      <td></td>\n",
       "      <td>2020-03-09</td>\n",
       "      <td>Makati Medical Center</td>\n",
       "      <td>14.559177</td>\n",
       "      <td>121.014546</td>\n",
       "      <td></td>\n",
       "      <td></td>\n",
       "      <td>2020-03-08 16:00:00</td>\n",
       "      <td>[PH42, PH43]</td>\n",
       "      <td>2</td>\n",
       "      <td>12</td>\n",
       "      <td>[42, 43]</td>\n",
       "    </tr>\n",
       "    <tr>\n",
       "      <th>47</th>\n",
       "      <td>PH34</td>\n",
       "      <td>72</td>\n",
       "      <td>Male</td>\n",
       "      <td>Filipino</td>\n",
       "      <td>Makati City</td>\n",
       "      <td>Husband of PH35</td>\n",
       "      <td></td>\n",
       "      <td>2020-03-11</td>\n",
       "      <td>Lung Center of the Philippines</td>\n",
       "      <td>14.647821</td>\n",
       "      <td>121.045763</td>\n",
       "      <td></td>\n",
       "      <td></td>\n",
       "      <td>2020-03-10 16:00:00</td>\n",
       "      <td>[PH35]</td>\n",
       "      <td>1</td>\n",
       "      <td>34</td>\n",
       "      <td>[35]</td>\n",
       "    </tr>\n",
       "    <tr>\n",
       "      <th>48</th>\n",
       "      <td>PH35</td>\n",
       "      <td>67</td>\n",
       "      <td>Female</td>\n",
       "      <td>Filipino</td>\n",
       "      <td>Makati City</td>\n",
       "      <td>Wife of PH34</td>\n",
       "      <td></td>\n",
       "      <td>2020-03-11</td>\n",
       "      <td>Manila Doctors Hospital</td>\n",
       "      <td>14.582028</td>\n",
       "      <td>120.982657</td>\n",
       "      <td></td>\n",
       "      <td></td>\n",
       "      <td>2020-03-10 16:00:00</td>\n",
       "      <td>[PH34]</td>\n",
       "      <td>1</td>\n",
       "      <td>35</td>\n",
       "      <td>[34]</td>\n",
       "    </tr>\n",
       "    <tr>\n",
       "      <th>55</th>\n",
       "      <td>PH42</td>\n",
       "      <td>51</td>\n",
       "      <td>Male</td>\n",
       "      <td>Filipino</td>\n",
       "      <td>Pasig City</td>\n",
       "      <td>Japan</td>\n",
       "      <td></td>\n",
       "      <td>2020-03-11</td>\n",
       "      <td>Lung Center of the Philippines</td>\n",
       "      <td>14.647821</td>\n",
       "      <td>121.045763</td>\n",
       "      <td></td>\n",
       "      <td></td>\n",
       "      <td>2020-03-10 16:00:00</td>\n",
       "      <td>[]</td>\n",
       "      <td>0</td>\n",
       "      <td>42</td>\n",
       "      <td>[]</td>\n",
       "    </tr>\n",
       "    <tr>\n",
       "      <th>56</th>\n",
       "      <td>PH43</td>\n",
       "      <td>47</td>\n",
       "      <td>Male</td>\n",
       "      <td>Filipino</td>\n",
       "      <td>Makati City</td>\n",
       "      <td>Wife is Sister of PH12; Close Contact of PH35</td>\n",
       "      <td></td>\n",
       "      <td>2020-03-11</td>\n",
       "      <td>Lung Center of the Philippines</td>\n",
       "      <td>14.647821</td>\n",
       "      <td>121.045763</td>\n",
       "      <td></td>\n",
       "      <td></td>\n",
       "      <td>2020-03-10 16:00:00</td>\n",
       "      <td>[PH12, PH35]</td>\n",
       "      <td>2</td>\n",
       "      <td>43</td>\n",
       "      <td>[12, 35]</td>\n",
       "    </tr>\n",
       "    <tr>\n",
       "      <th>97</th>\n",
       "      <td>PH84</td>\n",
       "      <td>38</td>\n",
       "      <td>Male</td>\n",
       "      <td>Filipino</td>\n",
       "      <td>Taguig City</td>\n",
       "      <td>Contact of PH43</td>\n",
       "      <td></td>\n",
       "      <td>2020-03-13</td>\n",
       "      <td>St. Luke's Medical Center - Global City</td>\n",
       "      <td>14.555128</td>\n",
       "      <td>121.048256</td>\n",
       "      <td></td>\n",
       "      <td></td>\n",
       "      <td>2020-03-12 16:00:00</td>\n",
       "      <td>[PH43]</td>\n",
       "      <td>1</td>\n",
       "      <td>84</td>\n",
       "      <td>[43]</td>\n",
       "    </tr>\n",
       "    <tr>\n",
       "      <th>99</th>\n",
       "      <td>PH86</td>\n",
       "      <td>48</td>\n",
       "      <td>Male</td>\n",
       "      <td>Filipino</td>\n",
       "      <td>Quezon City</td>\n",
       "      <td>Contact of PH43</td>\n",
       "      <td></td>\n",
       "      <td>2020-03-13</td>\n",
       "      <td>Research Institute for Tropical Medicine</td>\n",
       "      <td>14.409523</td>\n",
       "      <td>121.037122</td>\n",
       "      <td></td>\n",
       "      <td></td>\n",
       "      <td>2020-03-12 16:00:00</td>\n",
       "      <td>[PH43]</td>\n",
       "      <td>1</td>\n",
       "      <td>86</td>\n",
       "      <td>[43]</td>\n",
       "    </tr>\n",
       "    <tr>\n",
       "      <th>217</th>\n",
       "      <td>PH204</td>\n",
       "      <td>32</td>\n",
       "      <td>Female</td>\n",
       "      <td>Filipino</td>\n",
       "      <td>Makati City</td>\n",
       "      <td>Contact of PH35</td>\n",
       "      <td></td>\n",
       "      <td>2020-03-18</td>\n",
       "      <td>Manila Doctors Hospital</td>\n",
       "      <td>14.582028</td>\n",
       "      <td>120.982657</td>\n",
       "      <td></td>\n",
       "      <td></td>\n",
       "      <td>2020-03-18 00:00:00</td>\n",
       "      <td>[PH35]</td>\n",
       "      <td>1</td>\n",
       "      <td>204</td>\n",
       "      <td>[35]</td>\n",
       "    </tr>\n",
       "  </tbody>\n",
       "</table>\n",
       "</div>"
      ],
      "text/plain": [
       "    case_no age     sex nationality    residence  \\\n",
       "22     PH12  56    Male    Filipino  Manila City   \n",
       "47     PH34  72    Male    Filipino  Makati City   \n",
       "48     PH35  67  Female    Filipino  Makati City   \n",
       "55     PH42  51    Male    Filipino   Pasig City   \n",
       "56     PH43  47    Male    Filipino  Makati City   \n",
       "97     PH84  38    Male    Filipino  Taguig City   \n",
       "99     PH86  48    Male    Filipino  Quezon City   \n",
       "217   PH204  32  Female    Filipino  Makati City   \n",
       "\n",
       "                                    travel_history symptoms confirmation_date  \\\n",
       "22                           Contact of PH42, PH43                 2020-03-09   \n",
       "47                                 Husband of PH35                 2020-03-11   \n",
       "48                                    Wife of PH34                 2020-03-11   \n",
       "55                                           Japan                 2020-03-11   \n",
       "56   Wife is Sister of PH12; Close Contact of PH35                 2020-03-11   \n",
       "97                                 Contact of PH43                 2020-03-13   \n",
       "99                                 Contact of PH43                 2020-03-13   \n",
       "217                                Contact of PH35                 2020-03-18   \n",
       "\n",
       "                                     facility   latitude   longitude status  \\\n",
       "22                      Makati Medical Center  14.559177  121.014546          \n",
       "47             Lung Center of the Philippines  14.647821  121.045763          \n",
       "48                    Manila Doctors Hospital  14.582028  120.982657          \n",
       "55             Lung Center of the Philippines  14.647821  121.045763          \n",
       "56             Lung Center of the Philippines  14.647821  121.045763          \n",
       "97    St. Luke's Medical Center - Global City  14.555128  121.048256          \n",
       "99   Research Institute for Tropical Medicine  14.409523  121.037122          \n",
       "217                   Manila Doctors Hospital  14.582028  120.982657          \n",
       "\n",
       "    epi_link                date      contacts  num_contacts  case_no_int  \\\n",
       "22           2020-03-08 16:00:00  [PH42, PH43]             2           12   \n",
       "47           2020-03-10 16:00:00        [PH35]             1           34   \n",
       "48           2020-03-10 16:00:00        [PH34]             1           35   \n",
       "55           2020-03-10 16:00:00            []             0           42   \n",
       "56           2020-03-10 16:00:00  [PH12, PH35]             2           43   \n",
       "97           2020-03-12 16:00:00        [PH43]             1           84   \n",
       "99           2020-03-12 16:00:00        [PH43]             1           86   \n",
       "217          2020-03-18 00:00:00        [PH35]             1          204   \n",
       "\n",
       "    contacts_int  \n",
       "22      [42, 43]  \n",
       "47          [35]  \n",
       "48          [34]  \n",
       "55            []  \n",
       "56      [12, 35]  \n",
       "97          [43]  \n",
       "99          [43]  \n",
       "217         [35]  "
      ]
     },
     "execution_count": 117,
     "metadata": {},
     "output_type": "execute_result"
    }
   ],
   "source": [
    "df[df['case_no_int'].isin(comp_list[9])]"
   ]
  },
  {
   "cell_type": "markdown",
   "metadata": {},
   "source": [
    "<b>c. Certain people are also more inclined to spread to a large number of people, despite not being the first case in their network.</b><br>\n",
    "<i>Shown below are cases with 3 or more contact cases:</i>"
   ]
  },
  {
   "cell_type": "code",
   "execution_count": 118,
   "metadata": {},
   "outputs": [
    {
     "name": "stdout",
     "output_type": "stream",
     "text": [
      "List of all cases with 3+ contacts:\n",
      "Case: PH9\n",
      "Contacts: ['PH27', 'PH28', 'PH29', 'PH30', 'PH31']\n",
      "Case: PH43\n",
      "Contacts: ['PH35', 'PH12', 'PH86', 'PH84']\n",
      "Case: PH21\n",
      "Contacts: ['PH65', 'PH66', 'PH67']\n",
      "Case: PH35\n",
      "Contacts: ['PH34', 'PH43', 'PH204']\n",
      "Case: PH41\n",
      "Contacts: ['PH112', 'PH44', 'PH87']\n",
      "Case: PH44\n",
      "Contacts: ['PH112', 'PH41', 'PH87']\n",
      "Case: PH87\n",
      "Contacts: ['PH112', 'PH41', 'PH44']\n",
      "Case: PH112\n",
      "Contacts: ['PH41', 'PH44', 'PH87']\n"
     ]
    }
   ],
   "source": [
    "print(\"List of all cases with 3+ contacts:\")\n",
    "for key in contact_map.keys():\n",
    "    current_list = []\n",
    "    if(len(contact_map[key])>=3):\n",
    "        for i in contact_map[key]:\n",
    "            current_list = current_list + ['PH' + str(i)]\n",
    "        print(f'Case: PH{key}')\n",
    "        print(f'Contacts: {current_list}')"
   ]
  },
  {
   "cell_type": "markdown",
   "metadata": {},
   "source": [
    "<b>d. Currently, there are 274 unique networks, although the number may decrease as more case information is collected. Additionally, 7.14% of all cases come from networks of 2+ people, but this will increase as contact information is updated.</b>"
   ]
  },
  {
   "cell_type": "code",
   "execution_count": 119,
   "metadata": {},
   "outputs": [
    {
     "name": "stdout",
     "output_type": "stream",
     "text": [
      "Number of unique networks:  674\n",
      "Percentage of Transmissions in networks of 2+: 4.67%\n"
     ]
    }
   ],
   "source": [
    "print(\"Number of unique networks: \", cnt_cc)\n",
    "print(f\"Percentage of Transmissions in networks of 2+: {round(100*(1-cnt_cc/cnt),2)}%\")"
   ]
  },
  {
   "cell_type": "markdown",
   "metadata": {},
   "source": [
    "## Part III: Monitoring"
   ]
  },
  {
   "cell_type": "markdown",
   "metadata": {},
   "source": [
    "Much has already been said on the importance of <b>flattening the curve.</b> It can be shown that flattening the curve for the country begins with flattening the curve for each of the networks. That is, we should stop the networks of connected cases from growing. This can be accomplished with appropriate personal hygeine measures and social distancing whenever possible. "
   ]
  },
  {
   "cell_type": "markdown",
   "metadata": {},
   "source": [
    "<b>Use get_case_plot to show the growth of confirmed cases in PH</b>\n",
    "<br>\n",
    "<br><i>As of today, the growth of total PH cases is still rising</i>"
   ]
  },
  {
   "cell_type": "code",
   "execution_count": 140,
   "metadata": {},
   "outputs": [
    {
     "data": {
      "image/png": "[encoded data removed]",
      "text/plain": [
       "<Figure size 720x432 with 1 Axes>"
      ]
     },
     "metadata": {
      "needs_background": "light"
     },
     "output_type": "display_data"
    }
   ],
   "source": [
    "import phcovid_plot\n",
    "import importlib\n",
    "importlib.reload(phcovid_plot)\n",
    "phcovid_plot.get_case_plot(df)"
   ]
  },
  {
   "cell_type": "markdown",
   "metadata": {},
   "source": [
    "Use start_date functionality. <i>Plot only cases in March.</i>"
   ]
  },
  {
   "cell_type": "code",
   "execution_count": 141,
   "metadata": {},
   "outputs": [
    {
     "data": {
      "image/png": "[encoded data removed]",
      "text/plain": [
       "<Figure size 720x432 with 1 Axes>"
      ]
     },
     "metadata": {
      "needs_background": "light"
     },
     "output_type": "display_data"
    }
   ],
   "source": [
    "phcovid_plot.get_case_plot(df, start_date=\"03-02-20\")"
   ]
  },
  {
   "cell_type": "markdown",
   "metadata": {},
   "source": [
    "### Monitoring Large Networks"
   ]
  },
  {
   "cell_type": "markdown",
   "metadata": {},
   "source": [
    "<b>Growth of confirmed cases within networks</b>\n",
    "<br><i>Contact tracing and quarantine recommendations to large networks are important.</i>"
   ]
  },
  {
   "cell_type": "markdown",
   "metadata": {},
   "source": [
    "<u>Case growth within Network 9:</u> <i>Case growth in Network 9 is seen to be flattening, with the latest case recorded 3/18/20.\n",
    "This could indicate that the quarantine and preventive measures imposed on this network has been effective. Although we need to wait for more details and contact tracing of new cases to confirm. </i>"
   ]
  },
  {
   "cell_type": "code",
   "execution_count": 142,
   "metadata": {},
   "outputs": [
    {
     "data": {
      "image/png": "[encoded data removed]",
      "text/plain": [
       "<Figure size 720x432 with 1 Axes>"
      ]
     },
     "metadata": {
      "needs_background": "light"
     },
     "output_type": "display_data"
    }
   ],
   "source": [
    "phcovid_plot.get_case_plot(df[df['case_no_int'].isin(comp_list[9])])"
   ]
  },
  {
   "cell_type": "markdown",
   "metadata": {},
   "source": [
    "<u>Case growth within Network 6</u>"
   ]
  },
  {
   "cell_type": "code",
   "execution_count": 143,
   "metadata": {},
   "outputs": [
    {
     "data": {
      "image/png": "[encoded data removed]",
      "text/plain": [
       "<Figure size 720x432 with 1 Axes>"
      ]
     },
     "metadata": {
      "needs_background": "light"
     },
     "output_type": "display_data"
    }
   ],
   "source": [
    "phcovid_plot.get_case_plot(df[df['case_no_int'].isin(comp_list[6])])"
   ]
  },
  {
   "cell_type": "markdown",
   "metadata": {},
   "source": [
    "<u>Case growth among contacts of PH43:</u><i> No new cases among contacts of PH43 since 3/13/20</i>"
   ]
  },
  {
   "cell_type": "code",
   "execution_count": 144,
   "metadata": {},
   "outputs": [
    {
     "data": {
      "image/png": "[encoded data removed]",
      "text/plain": [
       "<Figure size 720x432 with 1 Axes>"
      ]
     },
     "metadata": {
      "needs_background": "light"
     },
     "output_type": "display_data"
    }
   ],
   "source": [
    "phcovid_plot.get_case_plot(df[df['case_no_int'].isin(contact_map[43])])"
   ]
  }
 ],
 "metadata": {
  "kernelspec": {
   "display_name": "Python 3",
   "language": "python",
   "name": "python3"
  },
  "language_info": {
   "codemirror_mode": {
    "name": "ipython",
    "version": 3
   },
   "file_extension": ".py",
   "mimetype": "text/x-python",
   "name": "python",
   "nbconvert_exporter": "python",
   "pygments_lexer": "ipython3",
   "version": "3.7.3"
  }
 },
 "nbformat": 4,
 "nbformat_minor": 2
}
