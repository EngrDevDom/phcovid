{
 "cells": [
  {
   "cell_type": "markdown",
   "metadata": {},
   "source": [
    "## Part I: Read Data and Pre-Process"
   ]
  },
  {
   "cell_type": "markdown",
   "metadata": {},
   "source": [
    "Import phcovid package"
   ]
  },
  {
   "cell_type": "code",
   "execution_count": 15,
   "metadata": {},
   "outputs": [],
   "source": [
    "import numpy as np\n",
    "import pandas as pd\n",
    "import os, sys\n",
    "package_dir = os.path.normpath(os.getcwd() + os.sep + os.pardir) + os.sep +'phcovid'\n",
    "sys.path.append(package_dir)"
   ]
  },
  {
   "cell_type": "code",
   "execution_count": 17,
   "metadata": {},
   "outputs": [],
   "source": [
    "from phcovid import get_cases"
   ]
  },
  {
   "cell_type": "markdown",
   "metadata": {},
   "source": [
    "Use get_cases module to extract latest data regarding PH Covid-19 cases in an analysis friendly format"
   ]
  },
  {
   "cell_type": "code",
   "execution_count": 18,
   "metadata": {},
   "outputs": [],
   "source": [
    "df = get_cases()"
   ]
  },
  {
   "cell_type": "code",
   "execution_count": 27,
   "metadata": {},
   "outputs": [
    {
     "data": {
      "text/html": [
       "<div>\n",
       "<style scoped>\n",
       "    .dataframe tbody tr th:only-of-type {\n",
       "        vertical-align: middle;\n",
       "    }\n",
       "\n",
       "    .dataframe tbody tr th {\n",
       "        vertical-align: top;\n",
       "    }\n",
       "\n",
       "    .dataframe thead th {\n",
       "        text-align: right;\n",
       "    }\n",
       "</style>\n",
       "<table border=\"1\" class=\"dataframe\">\n",
       "  <thead>\n",
       "    <tr style=\"text-align: right;\">\n",
       "      <th></th>\n",
       "      <th>case_no</th>\n",
       "      <th>age</th>\n",
       "      <th>sex</th>\n",
       "      <th>nationality</th>\n",
       "      <th>residence</th>\n",
       "      <th>travel_history</th>\n",
       "      <th>symptoms</th>\n",
       "      <th>confirmation_date</th>\n",
       "      <th>facility</th>\n",
       "      <th>latitude</th>\n",
       "      <th>longitude</th>\n",
       "      <th>status</th>\n",
       "      <th>epi_link</th>\n",
       "      <th>date</th>\n",
       "      <th>contacts</th>\n",
       "      <th>num_contacts</th>\n",
       "    </tr>\n",
       "  </thead>\n",
       "  <tbody>\n",
       "    <tr>\n",
       "      <th>0</th>\n",
       "      <td>PH1</td>\n",
       "      <td>38.0</td>\n",
       "      <td>Female</td>\n",
       "      <td>Chinese</td>\n",
       "      <td>None</td>\n",
       "      <td>Yes (China); Wife of PH2</td>\n",
       "      <td></td>\n",
       "      <td>1/30/2020</td>\n",
       "      <td>San Lazaro Hospital</td>\n",
       "      <td>14.613754</td>\n",
       "      <td>120.980815</td>\n",
       "      <td></td>\n",
       "      <td></td>\n",
       "      <td>1/29/2020 16:00</td>\n",
       "      <td>[PH2]</td>\n",
       "      <td>1</td>\n",
       "    </tr>\n",
       "    <tr>\n",
       "      <th>1</th>\n",
       "      <td>PH2</td>\n",
       "      <td>44.0</td>\n",
       "      <td>Male</td>\n",
       "      <td>Chinese</td>\n",
       "      <td>None</td>\n",
       "      <td>Yes (China); Husband of PH1</td>\n",
       "      <td></td>\n",
       "      <td>1/30/2020</td>\n",
       "      <td>San Lazaro Hospital</td>\n",
       "      <td>14.613754</td>\n",
       "      <td>120.980815</td>\n",
       "      <td></td>\n",
       "      <td></td>\n",
       "      <td>1/29/2020 16:00</td>\n",
       "      <td>[PH1]</td>\n",
       "      <td>1</td>\n",
       "    </tr>\n",
       "    <tr>\n",
       "      <th>2</th>\n",
       "      <td>PH3</td>\n",
       "      <td>60.0</td>\n",
       "      <td>Female</td>\n",
       "      <td>Chinese</td>\n",
       "      <td>None</td>\n",
       "      <td>Yes (China)</td>\n",
       "      <td></td>\n",
       "      <td>1/30/2020</td>\n",
       "      <td>ACE Medical Center</td>\n",
       "      <td>9.634451</td>\n",
       "      <td>123.869198</td>\n",
       "      <td></td>\n",
       "      <td></td>\n",
       "      <td>1/29/2020 16:00</td>\n",
       "      <td>[]</td>\n",
       "      <td>0</td>\n",
       "    </tr>\n",
       "    <tr>\n",
       "      <th>3</th>\n",
       "      <td>PH4</td>\n",
       "      <td>48.0</td>\n",
       "      <td>Male</td>\n",
       "      <td>Filipino</td>\n",
       "      <td>Taguig City</td>\n",
       "      <td>Yes (Japan)</td>\n",
       "      <td></td>\n",
       "      <td>3/5/2020</td>\n",
       "      <td>University of the East Ramon Magsaysay Memoria...</td>\n",
       "      <td>14.607030</td>\n",
       "      <td>121.020581</td>\n",
       "      <td></td>\n",
       "      <td></td>\n",
       "      <td>3/4/2020 16:00</td>\n",
       "      <td>[]</td>\n",
       "      <td>0</td>\n",
       "    </tr>\n",
       "    <tr>\n",
       "      <th>4</th>\n",
       "      <td>PH5</td>\n",
       "      <td>62.0</td>\n",
       "      <td>Male</td>\n",
       "      <td>Filipino</td>\n",
       "      <td>Rizal</td>\n",
       "      <td>Husband of PH6</td>\n",
       "      <td></td>\n",
       "      <td>3/5/2020</td>\n",
       "      <td>Research Institute for Tropical Medicine</td>\n",
       "      <td>14.409523</td>\n",
       "      <td>121.037122</td>\n",
       "      <td></td>\n",
       "      <td></td>\n",
       "      <td>3/4/2020 16:00</td>\n",
       "      <td>[PH6]</td>\n",
       "      <td>1</td>\n",
       "    </tr>\n",
       "  </tbody>\n",
       "</table>\n",
       "</div>"
      ],
      "text/plain": [
       "  case_no   age     sex nationality    residence               travel_history  \\\n",
       "0     PH1  38.0  Female     Chinese         None     Yes (China); Wife of PH2   \n",
       "1     PH2  44.0    Male     Chinese         None  Yes (China); Husband of PH1   \n",
       "2     PH3  60.0  Female     Chinese         None                  Yes (China)   \n",
       "3     PH4  48.0    Male    Filipino  Taguig City                  Yes (Japan)   \n",
       "4     PH5  62.0    Male    Filipino        Rizal               Husband of PH6   \n",
       "\n",
       "  symptoms confirmation_date  \\\n",
       "0                  1/30/2020   \n",
       "1                  1/30/2020   \n",
       "2                  1/30/2020   \n",
       "3                   3/5/2020   \n",
       "4                   3/5/2020   \n",
       "\n",
       "                                            facility   latitude   longitude  \\\n",
       "0                                San Lazaro Hospital  14.613754  120.980815   \n",
       "1                                San Lazaro Hospital  14.613754  120.980815   \n",
       "2                                 ACE Medical Center   9.634451  123.869198   \n",
       "3  University of the East Ramon Magsaysay Memoria...  14.607030  121.020581   \n",
       "4           Research Institute for Tropical Medicine  14.409523  121.037122   \n",
       "\n",
       "  status epi_link             date contacts  num_contacts  \n",
       "0                  1/29/2020 16:00    [PH2]             1  \n",
       "1                  1/29/2020 16:00    [PH1]             1  \n",
       "2                  1/29/2020 16:00       []             0  \n",
       "3                   3/4/2020 16:00       []             0  \n",
       "4                   3/4/2020 16:00    [PH6]             1  "
      ]
     },
     "execution_count": 27,
     "metadata": {},
     "output_type": "execute_result"
    }
   ],
   "source": [
    "df.head()"
   ]
  },
  {
   "cell_type": "code",
   "execution_count": 58,
   "metadata": {},
   "outputs": [],
   "source": [
    "#For use in graph analysis, we will create a column with case code [PHX] converted to numeric [X]\n",
    "def parse_ints(s):\n",
    "    num_list = []\n",
    "    for i in s:\n",
    "        num_list = num_list + [i.split('H')[-1]]\n",
    "    return num_list\n",
    "        \n",
    "\n",
    "df['case_no_int'] = df['case_no'].apply(lambda x: x.split('H')[-1]).astype(int)\n",
    "df['contacts_int'] = df['contacts'].apply(lambda x: parse_ints(x))"
   ]
  },
  {
   "cell_type": "markdown",
   "metadata": {},
   "source": [
    "## Part II: Connected Components Analysis"
   ]
  },
  {
   "cell_type": "markdown",
   "metadata": {},
   "source": [
    "<b>Step 1:</b> Create a graph to map all <u>direct connections</u> of each case."
   ]
  },
  {
   "cell_type": "code",
   "execution_count": 59,
   "metadata": {},
   "outputs": [],
   "source": [
    "#Create an undirected graph of all connections\n",
    "contact_map = {}\n",
    "def add_edge(s, d, curr_dict):\n",
    "    try:\n",
    "        curr_dict[s].append(d)\n",
    "    except KeyError:\n",
    "        curr_dict[s] = []\n",
    "        curr_dict[s].append(d)\n",
    "\n",
    "for row in df.itertuples():\n",
    "    current = getattr(row, 'case_no_int')\n",
    "    contact_list = getattr(row, 'contacts_int')\n",
    "    for c in pd.Series(contact_list).unique():\n",
    "        add_edge(int(current), int(c), contact_map)\n",
    "        add_edge(int(c), int(current), contact_map)\n",
    "    \n",
    "    if(len(contact_list)==0):\n",
    "        contact_map[int(current)] = []\n",
    "\n",
    "for key in contact_map.keys():\n",
    "    contact_map[key] = list(set(contact_map[key]))"
   ]
  },
  {
   "cell_type": "markdown",
   "metadata": {},
   "source": [
    "<b>Step 2:</b> Use Depth First Search on the graph built in Step 1 to a.) identify <i>networks</i> of inter-connected cases and b.) count the number of networks and the number of cases in each network."
   ]
  },
  {
   "cell_type": "code",
   "execution_count": 60,
   "metadata": {},
   "outputs": [],
   "source": [
    "cnt = len(df)\n",
    "visited = [False for i in range(1,cnt+2)]\n",
    "visited_pre = [False for i in range(1,cnt+2)]\n",
    "parent = [-1 for i in range(1,cnt+2)]\n",
    "def dfs (v, g):\n",
    "    #dfs from node v in graph (dict) g\n",
    "    visited[v] = True\n",
    "    for node in g[v]:\n",
    "        if(not visited[node]):\n",
    "            parent[node] = v\n",
    "            dfs(node, g)\n",
    "            \n",
    "cnt_cc = 0\n",
    "comp_list = {}\n",
    "for i in range(1, cnt+1):\n",
    "    if(not visited[i]):\n",
    "        cnt_cc+=1\n",
    "        dfs(i, contact_map)\n",
    "        comp_list[cnt_cc-1] = []\n",
    "        \n",
    "        for j in range(1, cnt+1):\n",
    "            if(not visited_pre[j] and visited[j]):\n",
    "                visited_pre[j] = visited[j]\n",
    "                comp_list[cnt_cc-1].append(j)"
   ]
  },
  {
   "cell_type": "markdown",
   "metadata": {},
   "source": [
    "<b>a. Multiple cases, especially the initial ones can be traced to networks of 3+ people where transmission occured.</b> The largest network is comprised of 8 people: [12, 34, 35, 42, 43, 84, 86, 204].\n",
    "<br>\n",
    "<br>\n",
    "<i>List of all networks with 3+ Cases shown below:</i>"
   ]
  },
  {
   "cell_type": "code",
   "execution_count": 61,
   "metadata": {
    "scrolled": true
   },
   "outputs": [
    {
     "name": "stdout",
     "output_type": "stream",
     "text": [
      "List of all Networks with 3+ cases:\n",
      "Network 3: ['PH5', 'PH6', 'PH38']\n",
      "Network 6: ['PH9', 'PH27', 'PH28', 'PH29', 'PH30', 'PH31']\n",
      "Network 9: ['PH12', 'PH34', 'PH35', 'PH42', 'PH43', 'PH84', 'PH86', 'PH204']\n",
      "Network 16: ['PH21', 'PH65', 'PH66', 'PH67']\n",
      "Network 28: ['PH41', 'PH44', 'PH87', 'PH112']\n",
      "Network 33: ['PH49', 'PH52', 'PH183']\n",
      "Network 35: ['PH51', 'PH134', 'PH135']\n",
      "Network 140: ['PH169', 'PH170', 'PH176']\n"
     ]
    }
   ],
   "source": [
    "print(\"List of all Networks with 3+ cases:\")\n",
    "for key in comp_list.keys():\n",
    "    current_list = []\n",
    "    if(len(comp_list[key])>=3):\n",
    "        for i in comp_list[key]:\n",
    "            current_list = current_list + ['PH' + str(i)]\n",
    "        print(f'Network {key}: {current_list}')"
   ]
  },
  {
   "cell_type": "markdown",
   "metadata": {},
   "source": [
    "<b>b. Largest Network (Network 9) has loose connections and is split among multiple hospitals in NCR across 10 days. </b> <br>\n",
    "<i>Network details are shown below:</i>"
   ]
  },
  {
   "cell_type": "code",
   "execution_count": 62,
   "metadata": {},
   "outputs": [
    {
     "data": {
      "text/html": [
       "<div>\n",
       "<style scoped>\n",
       "    .dataframe tbody tr th:only-of-type {\n",
       "        vertical-align: middle;\n",
       "    }\n",
       "\n",
       "    .dataframe tbody tr th {\n",
       "        vertical-align: top;\n",
       "    }\n",
       "\n",
       "    .dataframe thead th {\n",
       "        text-align: right;\n",
       "    }\n",
       "</style>\n",
       "<table border=\"1\" class=\"dataframe\">\n",
       "  <thead>\n",
       "    <tr style=\"text-align: right;\">\n",
       "      <th></th>\n",
       "      <th>case_no</th>\n",
       "      <th>age</th>\n",
       "      <th>sex</th>\n",
       "      <th>nationality</th>\n",
       "      <th>residence</th>\n",
       "      <th>travel_history</th>\n",
       "      <th>symptoms</th>\n",
       "      <th>confirmation_date</th>\n",
       "      <th>facility</th>\n",
       "      <th>latitude</th>\n",
       "      <th>longitude</th>\n",
       "      <th>status</th>\n",
       "      <th>epi_link</th>\n",
       "      <th>date</th>\n",
       "      <th>contacts</th>\n",
       "      <th>num_contacts</th>\n",
       "      <th>case_no_int</th>\n",
       "      <th>contacts_int</th>\n",
       "    </tr>\n",
       "  </thead>\n",
       "  <tbody>\n",
       "    <tr>\n",
       "      <th>11</th>\n",
       "      <td>PH12</td>\n",
       "      <td>56.0</td>\n",
       "      <td>Male</td>\n",
       "      <td>Filipino</td>\n",
       "      <td>Manila</td>\n",
       "      <td>Contact of PH42, PH43</td>\n",
       "      <td></td>\n",
       "      <td>3/9/2020</td>\n",
       "      <td>Makati Medical Center</td>\n",
       "      <td>14.559177</td>\n",
       "      <td>121.014546</td>\n",
       "      <td></td>\n",
       "      <td></td>\n",
       "      <td>3/8/2020 16:00</td>\n",
       "      <td>[PH42, PH43]</td>\n",
       "      <td>2</td>\n",
       "      <td>12</td>\n",
       "      <td>[42, 43]</td>\n",
       "    </tr>\n",
       "    <tr>\n",
       "      <th>33</th>\n",
       "      <td>PH34</td>\n",
       "      <td>72.0</td>\n",
       "      <td>Male</td>\n",
       "      <td>Filipino</td>\n",
       "      <td>Makati City</td>\n",
       "      <td>Husband of PH35</td>\n",
       "      <td></td>\n",
       "      <td>3/11/2020</td>\n",
       "      <td>Lung Center of the Philippines</td>\n",
       "      <td>14.647821</td>\n",
       "      <td>121.045763</td>\n",
       "      <td></td>\n",
       "      <td></td>\n",
       "      <td>3/10/2020 16:00</td>\n",
       "      <td>[PH35]</td>\n",
       "      <td>1</td>\n",
       "      <td>34</td>\n",
       "      <td>[35]</td>\n",
       "    </tr>\n",
       "    <tr>\n",
       "      <th>34</th>\n",
       "      <td>PH35</td>\n",
       "      <td>67.0</td>\n",
       "      <td>Female</td>\n",
       "      <td>Filipino</td>\n",
       "      <td>Makati City</td>\n",
       "      <td>Wife of PH34</td>\n",
       "      <td></td>\n",
       "      <td>3/11/2020</td>\n",
       "      <td>Manila Doctors Hospital</td>\n",
       "      <td>14.582028</td>\n",
       "      <td>120.982657</td>\n",
       "      <td></td>\n",
       "      <td></td>\n",
       "      <td>3/10/2020 16:00</td>\n",
       "      <td>[PH34]</td>\n",
       "      <td>1</td>\n",
       "      <td>35</td>\n",
       "      <td>[34]</td>\n",
       "    </tr>\n",
       "    <tr>\n",
       "      <th>41</th>\n",
       "      <td>PH42</td>\n",
       "      <td>51.0</td>\n",
       "      <td>Female</td>\n",
       "      <td>Filipino</td>\n",
       "      <td>Pasig City</td>\n",
       "      <td>Japan</td>\n",
       "      <td></td>\n",
       "      <td>3/11/2020</td>\n",
       "      <td>Lung Center of the Philippines</td>\n",
       "      <td>14.647821</td>\n",
       "      <td>121.045763</td>\n",
       "      <td></td>\n",
       "      <td></td>\n",
       "      <td>3/10/2020 16:00</td>\n",
       "      <td>[]</td>\n",
       "      <td>0</td>\n",
       "      <td>42</td>\n",
       "      <td>[]</td>\n",
       "    </tr>\n",
       "    <tr>\n",
       "      <th>42</th>\n",
       "      <td>PH43</td>\n",
       "      <td>47.0</td>\n",
       "      <td>Male</td>\n",
       "      <td>Filipino</td>\n",
       "      <td>Makati City</td>\n",
       "      <td>Wife is Sister of PH12; Close Contact of PH35</td>\n",
       "      <td></td>\n",
       "      <td>3/11/2020</td>\n",
       "      <td>Lung Center of the Philippines</td>\n",
       "      <td>14.647821</td>\n",
       "      <td>121.045763</td>\n",
       "      <td></td>\n",
       "      <td></td>\n",
       "      <td>3/10/2020 16:00</td>\n",
       "      <td>[PH12, PH35]</td>\n",
       "      <td>2</td>\n",
       "      <td>43</td>\n",
       "      <td>[12, 35]</td>\n",
       "    </tr>\n",
       "    <tr>\n",
       "      <th>83</th>\n",
       "      <td>PH84</td>\n",
       "      <td>38.0</td>\n",
       "      <td>Female</td>\n",
       "      <td>Filipino</td>\n",
       "      <td>Taguig City</td>\n",
       "      <td>Contact of PH43</td>\n",
       "      <td></td>\n",
       "      <td>3/13/2020</td>\n",
       "      <td>Research Institute for Tropical Medicine</td>\n",
       "      <td>14.409523</td>\n",
       "      <td>121.037122</td>\n",
       "      <td></td>\n",
       "      <td></td>\n",
       "      <td>3/12/2020 16:00</td>\n",
       "      <td>[PH43]</td>\n",
       "      <td>1</td>\n",
       "      <td>84</td>\n",
       "      <td>[43]</td>\n",
       "    </tr>\n",
       "    <tr>\n",
       "      <th>85</th>\n",
       "      <td>PH86</td>\n",
       "      <td>48.0</td>\n",
       "      <td>Male</td>\n",
       "      <td>Filipino</td>\n",
       "      <td>Quezon City</td>\n",
       "      <td>Contact of PH43</td>\n",
       "      <td></td>\n",
       "      <td>3/13/2020</td>\n",
       "      <td>Research Institute for Tropical Medicine</td>\n",
       "      <td>14.409523</td>\n",
       "      <td>121.037122</td>\n",
       "      <td></td>\n",
       "      <td></td>\n",
       "      <td>3/12/2020 16:00</td>\n",
       "      <td>[PH43]</td>\n",
       "      <td>1</td>\n",
       "      <td>86</td>\n",
       "      <td>[43]</td>\n",
       "    </tr>\n",
       "    <tr>\n",
       "      <th>203</th>\n",
       "      <td>PH204</td>\n",
       "      <td>32.0</td>\n",
       "      <td>Female</td>\n",
       "      <td>Filipino</td>\n",
       "      <td>for_validation</td>\n",
       "      <td>Contact of PH35</td>\n",
       "      <td></td>\n",
       "      <td>3/18/2020</td>\n",
       "      <td>Manila Doctors Hospital</td>\n",
       "      <td>14.582028</td>\n",
       "      <td>120.982657</td>\n",
       "      <td></td>\n",
       "      <td></td>\n",
       "      <td>3/18/2020</td>\n",
       "      <td>[PH35]</td>\n",
       "      <td>1</td>\n",
       "      <td>204</td>\n",
       "      <td>[35]</td>\n",
       "    </tr>\n",
       "  </tbody>\n",
       "</table>\n",
       "</div>"
      ],
      "text/plain": [
       "    case_no   age     sex nationality       residence  \\\n",
       "11     PH12  56.0    Male    Filipino          Manila   \n",
       "33     PH34  72.0    Male    Filipino     Makati City   \n",
       "34     PH35  67.0  Female    Filipino     Makati City   \n",
       "41     PH42  51.0  Female    Filipino      Pasig City   \n",
       "42     PH43  47.0    Male    Filipino     Makati City   \n",
       "83     PH84  38.0  Female    Filipino     Taguig City   \n",
       "85     PH86  48.0    Male    Filipino     Quezon City   \n",
       "203   PH204  32.0  Female    Filipino  for_validation   \n",
       "\n",
       "                                    travel_history symptoms confirmation_date  \\\n",
       "11                           Contact of PH42, PH43                   3/9/2020   \n",
       "33                                 Husband of PH35                  3/11/2020   \n",
       "34                                    Wife of PH34                  3/11/2020   \n",
       "41                                           Japan                  3/11/2020   \n",
       "42   Wife is Sister of PH12; Close Contact of PH35                  3/11/2020   \n",
       "83                                 Contact of PH43                  3/13/2020   \n",
       "85                                 Contact of PH43                  3/13/2020   \n",
       "203                                Contact of PH35                  3/18/2020   \n",
       "\n",
       "                                     facility   latitude   longitude status  \\\n",
       "11                      Makati Medical Center  14.559177  121.014546          \n",
       "33             Lung Center of the Philippines  14.647821  121.045763          \n",
       "34                    Manila Doctors Hospital  14.582028  120.982657          \n",
       "41             Lung Center of the Philippines  14.647821  121.045763          \n",
       "42             Lung Center of the Philippines  14.647821  121.045763          \n",
       "83   Research Institute for Tropical Medicine  14.409523  121.037122          \n",
       "85   Research Institute for Tropical Medicine  14.409523  121.037122          \n",
       "203                   Manila Doctors Hospital  14.582028  120.982657          \n",
       "\n",
       "    epi_link             date      contacts  num_contacts  case_no_int  \\\n",
       "11             3/8/2020 16:00  [PH42, PH43]             2           12   \n",
       "33            3/10/2020 16:00        [PH35]             1           34   \n",
       "34            3/10/2020 16:00        [PH34]             1           35   \n",
       "41            3/10/2020 16:00            []             0           42   \n",
       "42            3/10/2020 16:00  [PH12, PH35]             2           43   \n",
       "83            3/12/2020 16:00        [PH43]             1           84   \n",
       "85            3/12/2020 16:00        [PH43]             1           86   \n",
       "203                 3/18/2020        [PH35]             1          204   \n",
       "\n",
       "    contacts_int  \n",
       "11      [42, 43]  \n",
       "33          [35]  \n",
       "34          [34]  \n",
       "41            []  \n",
       "42      [12, 35]  \n",
       "83          [43]  \n",
       "85          [43]  \n",
       "203         [35]  "
      ]
     },
     "execution_count": 62,
     "metadata": {},
     "output_type": "execute_result"
    }
   ],
   "source": [
    "df[df['case_no_int'].isin(comp_list[9])]"
   ]
  },
  {
   "cell_type": "markdown",
   "metadata": {},
   "source": [
    "<b>c. Certain people are also more inclined to spread to a large number of people, despite not being the first case in their network.</b><br>\n",
    "<i>Shown below are cases with 3 or more contact cases:</i>"
   ]
  },
  {
   "cell_type": "code",
   "execution_count": 63,
   "metadata": {},
   "outputs": [
    {
     "name": "stdout",
     "output_type": "stream",
     "text": [
      "List of all cases with 3+ contacts:\n",
      "Case: PH9\n",
      "Contacts: ['PH27', 'PH28', 'PH29', 'PH30', 'PH31']\n",
      "Case: PH43\n",
      "Contacts: ['PH35', 'PH12', 'PH86', 'PH84']\n",
      "Case: PH21\n",
      "Contacts: ['PH65', 'PH66', 'PH67']\n",
      "Case: PH35\n",
      "Contacts: ['PH34', 'PH43', 'PH204']\n",
      "Case: PH41\n",
      "Contacts: ['PH112', 'PH44', 'PH87']\n",
      "Case: PH44\n",
      "Contacts: ['PH112', 'PH41', 'PH87']\n",
      "Case: PH87\n",
      "Contacts: ['PH112', 'PH41', 'PH44']\n",
      "Case: PH112\n",
      "Contacts: ['PH41', 'PH44', 'PH87']\n"
     ]
    }
   ],
   "source": [
    "print(\"List of all cases with 3+ contacts:\")\n",
    "for key in contact_map.keys():\n",
    "    current_list = []\n",
    "    if(len(contact_map[key])>=3):\n",
    "        for i in contact_map[key]:\n",
    "            current_list = current_list + ['PH' + str(i)]\n",
    "        print(f'Case: PH{key}')\n",
    "        print(f'Contacts: {current_list}')"
   ]
  },
  {
   "cell_type": "markdown",
   "metadata": {},
   "source": [
    "<b>d. Currently, there are 274 unique networks, although the number may decrease as more case information is collected. Additionally, 7.14% of all cases come from networks of 2+ people, but this will increase as contact information is updated.</b>"
   ]
  },
  {
   "cell_type": "code",
   "execution_count": 64,
   "metadata": {},
   "outputs": [
    {
     "name": "stdout",
     "output_type": "stream",
     "text": [
      "Number of unique networks:  429\n",
      "Percentage of Transmissions in networks of 2+: 7.14%\n"
     ]
    }
   ],
   "source": [
    "print(\"Number of unique networks: \", cnt_cc)\n",
    "print(f\"Percentage of Transmissions in networks of 2+: {round(100*(1-cnt_cc/cnt),2)}%\")"
   ]
  },
  {
   "cell_type": "markdown",
   "metadata": {},
   "source": [
    "## Part III: Monitoring"
   ]
  },
  {
   "cell_type": "markdown",
   "metadata": {},
   "source": [
    "Much has already been said on the importance of <b>flattening the curve.</b> It can be shown that flattening the curve for the country begins with flattening the curve for each of the networks. That is, we should stop the networks of connected cases from growing. This can be accomplished with appropriate personal hygeine measures and social distancing whenever possible. "
   ]
  },
  {
   "cell_type": "markdown",
   "metadata": {},
   "source": [
    "<b>Use get_case_plot to show the growth of confirmed cases in PH</b>"
   ]
  },
  {
   "cell_type": "code",
   "execution_count": 67,
   "metadata": {},
   "outputs": [],
   "source": [
    "from phcovid_plot import get_case_plot"
   ]
  },
  {
   "cell_type": "markdown",
   "metadata": {},
   "source": [
    "<br><i>As of today, the growth of total PH cases is still rising</i>"
   ]
  },
  {
   "cell_type": "code",
   "execution_count": 68,
   "metadata": {},
   "outputs": [
    {
     "name": "stdout",
     "output_type": "stream",
     "text": [
      "First Confirmed Case:  2020-01-30\n",
      "Latest Confirmed Case:  2020-03-23\n"
     ]
    },
    {
     "data": {
      "image/png": "[encoded data removed]",
      "text/plain": [
       "<Figure size 432x288 with 1 Axes>"
      ]
     },
     "metadata": {
      "needs_background": "light"
     },
     "output_type": "display_data"
    }
   ],
   "source": [
    "get_case_plot(df)"
   ]
  },
  {
   "cell_type": "markdown",
   "metadata": {},
   "source": [
    "### Monitoring Large Networks"
   ]
  },
  {
   "cell_type": "markdown",
   "metadata": {},
   "source": [
    "<b>Growth of confirmed cases within networks</b>\n",
    "<br><i>Contact tracing and quarantine recommendations to large networks are important.</i>"
   ]
  },
  {
   "cell_type": "markdown",
   "metadata": {},
   "source": [
    "<u>Case growth within Network 9:</u> <i>Case growth in Network 9 is seen to be flattening, with the latest case recorded 3/18/20.\n",
    "This could indicate that the quarantine and preventive measures imposed on this network has been effective. Although we need to wait for more details and contact tracing of new cases to confirm. </i>"
   ]
  },
  {
   "cell_type": "code",
   "execution_count": 70,
   "metadata": {},
   "outputs": [
    {
     "name": "stdout",
     "output_type": "stream",
     "text": [
      "First Confirmed Case:  2020-03-09\n",
      "Latest Confirmed Case:  2020-03-18\n"
     ]
    },
    {
     "data": {
      "image/png": "[encoded data removed]",
      "text/plain": [
       "<Figure size 432x288 with 1 Axes>"
      ]
     },
     "metadata": {
      "needs_background": "light"
     },
     "output_type": "display_data"
    }
   ],
   "source": [
    "get_case_plot(df[df['case_no_int'].isin(comp_list[9])])"
   ]
  },
  {
   "cell_type": "markdown",
   "metadata": {},
   "source": [
    "<u>Case growth within Network 6</u>"
   ]
  },
  {
   "cell_type": "code",
   "execution_count": 71,
   "metadata": {},
   "outputs": [
    {
     "name": "stdout",
     "output_type": "stream",
     "text": [
      "First Confirmed Case:  2020-03-08\n",
      "Latest Confirmed Case:  2020-03-10\n"
     ]
    },
    {
     "data": {
      "image/png": "[encoded data removed]",
      "text/plain": [
       "<Figure size 432x288 with 1 Axes>"
      ]
     },
     "metadata": {
      "needs_background": "light"
     },
     "output_type": "display_data"
    }
   ],
   "source": [
    "get_case_plot(df[df['case_no_int'].isin(comp_list[6])])"
   ]
  },
  {
   "cell_type": "markdown",
   "metadata": {},
   "source": [
    "<u>Case growth among contacts of PH43:</u><i> No new cases among contacts of PH43 since 3/13/20</i>"
   ]
  },
  {
   "cell_type": "code",
   "execution_count": 72,
   "metadata": {},
   "outputs": [
    {
     "name": "stdout",
     "output_type": "stream",
     "text": [
      "First Confirmed Case:  2020-03-09\n",
      "Latest Confirmed Case:  2020-03-13\n"
     ]
    },
    {
     "data": {
      "image/png": "[encoded data removed]",
      "text/plain": [
       "<Figure size 432x288 with 1 Axes>"
      ]
     },
     "metadata": {
      "needs_background": "light"
     },
     "output_type": "display_data"
    }
   ],
   "source": [
    "get_case_plot(df[df['case_no_int'].isin(contact_map[43])])"
   ]
  }
 ],
 "metadata": {
  "kernelspec": {
   "display_name": "Python 3",
   "language": "python",
   "name": "python3"
  },
  "language_info": {
   "codemirror_mode": {
    "name": "ipython",
    "version": 3
   },
   "file_extension": ".py",
   "mimetype": "text/x-python",
   "name": "python",
   "nbconvert_exporter": "python",
   "pygments_lexer": "ipython3",
   "version": "3.7.3"
  }
 },
 "nbformat": 4,
 "nbformat_minor": 2
}
