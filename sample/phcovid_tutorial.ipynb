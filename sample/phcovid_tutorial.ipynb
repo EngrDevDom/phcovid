{
  "nbformat": 4,
  "nbformat_minor": 0,
  "metadata": {
    "colab": {
      "name": "phcovid_tutorial.ipynb",
      "provenance": [],
      "collapsed_sections": [],
      "authorship_tag": "ABX9TyODi7/4IOfOwvkLiUB0m/Bh",
      "include_colab_link": true
    },
    "kernelspec": {
      "name": "python3",
      "display_name": "Python 3"
    }
  },
  "cells": [
    {
      "cell_type": "markdown",
      "metadata": {
        "id": "view-in-github",
        "colab_type": "text"
      },
      "source": [
        "<a href=\"https://colab.research.google.com/github/enzoampil/phcovid/blob/master/sample/phcovid_tutorial.ipynb\" target=\"_parent\"><img src=\"https://colab.research.google.com/assets/colab-badge.svg\" alt=\"Open In Colab\"/></a>"
      ]
    },
    {
      "cell_type": "markdown",
      "metadata": {
        "id": "ItVAARHIS9aO",
        "colab_type": "text"
      },
      "source": [
        "# Setup"
      ]
    },
    {
      "cell_type": "code",
      "metadata": {
        "id": "n9GIfOEnjYhW",
        "colab_type": "code",
        "outputId": "90d3b613-8d84-4778-ab5b-dd51883e7abf",
        "colab": {
          "base_uri": "https://localhost:8080/",
          "height": 463
        }
      },
      "source": [
        "!pip install phcovid"
      ],
      "execution_count": 0,
      "outputs": [
        {
          "output_type": "stream",
          "text": [
            "Collecting phcovid\n",
            "  Downloading https://files.pythonhosted.org/packages/73/1a/45675196f3adc8681ed25cd86b7cc108fe3da129d795dc3349572d976085/phcovid-0.0.1-py3-none-any.whl\n",
            "Collecting matplotlib==3.1.2\n",
            "\u001b[?25l  Downloading https://files.pythonhosted.org/packages/4e/11/06958a2b895a3853206dea1fb2a5b11bf044f626f90745987612af9c8f2c/matplotlib-3.1.2-cp36-cp36m-manylinux1_x86_64.whl (13.1MB)\n",
            "\u001b[K     |████████████████████████████████| 13.1MB 2.9MB/s \n",
            "\u001b[?25hRequirement already satisfied: pandas==0.25.3 in /usr/local/lib/python3.6/dist-packages (from phcovid) (0.25.3)\n",
            "Requirement already satisfied: pyparsing!=2.0.4,!=2.1.2,!=2.1.6,>=2.0.1 in /usr/local/lib/python3.6/dist-packages (from matplotlib==3.1.2->phcovid) (2.4.6)\n",
            "Requirement already satisfied: python-dateutil>=2.1 in /usr/local/lib/python3.6/dist-packages (from matplotlib==3.1.2->phcovid) (2.8.1)\n",
            "Requirement already satisfied: kiwisolver>=1.0.1 in /usr/local/lib/python3.6/dist-packages (from matplotlib==3.1.2->phcovid) (1.1.0)\n",
            "Requirement already satisfied: cycler>=0.10 in /usr/local/lib/python3.6/dist-packages (from matplotlib==3.1.2->phcovid) (0.10.0)\n",
            "Requirement already satisfied: numpy>=1.11 in /usr/local/lib/python3.6/dist-packages (from matplotlib==3.1.2->phcovid) (1.18.2)\n",
            "Requirement already satisfied: pytz>=2017.2 in /usr/local/lib/python3.6/dist-packages (from pandas==0.25.3->phcovid) (2018.9)\n",
            "Requirement already satisfied: six>=1.5 in /usr/local/lib/python3.6/dist-packages (from python-dateutil>=2.1->matplotlib==3.1.2->phcovid) (1.12.0)\n",
            "Requirement already satisfied: setuptools in /usr/local/lib/python3.6/dist-packages (from kiwisolver>=1.0.1->matplotlib==3.1.2->phcovid) (46.0.0)\n",
            "\u001b[31mERROR: albumentations 0.1.12 has requirement imgaug<0.2.7,>=0.2.5, but you'll have imgaug 0.2.9 which is incompatible.\u001b[0m\n",
            "Installing collected packages: matplotlib, phcovid\n",
            "  Found existing installation: matplotlib 3.2.1\n",
            "    Uninstalling matplotlib-3.2.1:\n",
            "      Successfully uninstalled matplotlib-3.2.1\n",
            "Successfully installed matplotlib-3.1.2 phcovid-0.0.1\n"
          ],
          "name": "stdout"
        },
        {
          "output_type": "display_data",
          "data": {
            "application/vnd.colab-display-data+json": {
              "pip_warning": {
                "packages": [
                  "matplotlib",
                  "mpl_toolkits"
                ]
              }
            }
          },
          "metadata": {
            "tags": []
          }
        }
      ]
    },
    {
      "cell_type": "code",
      "metadata": {
        "id": "UxcvgaPtjddL",
        "colab_type": "code",
        "colab": {}
      },
      "source": [
        "from phcovid import get_cases"
      ],
      "execution_count": 0,
      "outputs": []
    },
    {
      "cell_type": "markdown",
      "metadata": {
        "id": "EM6wWjL3TBvt",
        "colab_type": "text"
      },
      "source": [
        "# Get data"
      ]
    },
    {
      "cell_type": "code",
      "metadata": {
        "id": "caxajsCujnkO",
        "colab_type": "code",
        "colab": {}
      },
      "source": [
        "df = get_cases()"
      ],
      "execution_count": 0,
      "outputs": []
    },
    {
      "cell_type": "code",
      "metadata": {
        "id": "Tc2xXPB7jo0p",
        "colab_type": "code",
        "outputId": "3b52b90d-ed62-46df-db4f-89305977e14d",
        "colab": {
          "base_uri": "https://localhost:8080/",
          "height": 445
        }
      },
      "source": [
        "df.head()"
      ],
      "execution_count": 0,
      "outputs": [
        {
          "output_type": "execute_result",
          "data": {
            "text/html": [
              "<div>\n",
              "<style scoped>\n",
              "    .dataframe tbody tr th:only-of-type {\n",
              "        vertical-align: middle;\n",
              "    }\n",
              "\n",
              "    .dataframe tbody tr th {\n",
              "        vertical-align: top;\n",
              "    }\n",
              "\n",
              "    .dataframe thead th {\n",
              "        text-align: right;\n",
              "    }\n",
              "</style>\n",
              "<table border=\"1\" class=\"dataframe\">\n",
              "  <thead>\n",
              "    <tr style=\"text-align: right;\">\n",
              "      <th></th>\n",
              "      <th>case_no</th>\n",
              "      <th>age</th>\n",
              "      <th>sex</th>\n",
              "      <th>nationality</th>\n",
              "      <th>residence</th>\n",
              "      <th>travel_history</th>\n",
              "      <th>symptoms</th>\n",
              "      <th>confirmation_date</th>\n",
              "      <th>facility</th>\n",
              "      <th>latitude</th>\n",
              "      <th>longitude</th>\n",
              "      <th>status</th>\n",
              "      <th>epi_link</th>\n",
              "      <th>date</th>\n",
              "      <th>contacts</th>\n",
              "      <th>num_contacts</th>\n",
              "    </tr>\n",
              "  </thead>\n",
              "  <tbody>\n",
              "    <tr>\n",
              "      <th>0</th>\n",
              "      <td>PH501</td>\n",
              "      <td>60</td>\n",
              "      <td>Male</td>\n",
              "      <td>for_validation</td>\n",
              "      <td>for_validation</td>\n",
              "      <td>for_validation</td>\n",
              "      <td></td>\n",
              "      <td></td>\n",
              "      <td>St. Luke's Medical Center - Global City</td>\n",
              "      <td>14.555128</td>\n",
              "      <td>121.048256</td>\n",
              "      <td></td>\n",
              "      <td></td>\n",
              "      <td></td>\n",
              "      <td>[]</td>\n",
              "      <td>0</td>\n",
              "    </tr>\n",
              "    <tr>\n",
              "      <th>1</th>\n",
              "      <td>PH1</td>\n",
              "      <td>38</td>\n",
              "      <td>Female</td>\n",
              "      <td>Chinese</td>\n",
              "      <td>CHINA</td>\n",
              "      <td>Yes (China); Wife of PH2</td>\n",
              "      <td></td>\n",
              "      <td>1/30/2020</td>\n",
              "      <td>San Lazaro Hospital</td>\n",
              "      <td>14.613754</td>\n",
              "      <td>120.980815</td>\n",
              "      <td></td>\n",
              "      <td></td>\n",
              "      <td>1/29/2020 16:00</td>\n",
              "      <td>[PH2]</td>\n",
              "      <td>1</td>\n",
              "    </tr>\n",
              "    <tr>\n",
              "      <th>2</th>\n",
              "      <td>PH502</td>\n",
              "      <td>56</td>\n",
              "      <td>Female</td>\n",
              "      <td>Filipino</td>\n",
              "      <td>San Juan City</td>\n",
              "      <td>for_validation</td>\n",
              "      <td></td>\n",
              "      <td></td>\n",
              "      <td>Cardinal Santos Medical Center</td>\n",
              "      <td>14.597596</td>\n",
              "      <td>121.045994</td>\n",
              "      <td></td>\n",
              "      <td></td>\n",
              "      <td></td>\n",
              "      <td>[]</td>\n",
              "      <td>0</td>\n",
              "    </tr>\n",
              "    <tr>\n",
              "      <th>3</th>\n",
              "      <td>PH2</td>\n",
              "      <td>44</td>\n",
              "      <td>Male</td>\n",
              "      <td>Chinese</td>\n",
              "      <td>CHINA</td>\n",
              "      <td>Yes (China); Husband of PH1</td>\n",
              "      <td></td>\n",
              "      <td>1/30/2020</td>\n",
              "      <td>San Lazaro Hospital</td>\n",
              "      <td>14.613754</td>\n",
              "      <td>120.980815</td>\n",
              "      <td></td>\n",
              "      <td></td>\n",
              "      <td>1/29/2020 16:00</td>\n",
              "      <td>[PH1]</td>\n",
              "      <td>1</td>\n",
              "    </tr>\n",
              "    <tr>\n",
              "      <th>4</th>\n",
              "      <td>PH3</td>\n",
              "      <td>60</td>\n",
              "      <td>Female</td>\n",
              "      <td>Chinese</td>\n",
              "      <td>CHINA</td>\n",
              "      <td>Yes (China)</td>\n",
              "      <td></td>\n",
              "      <td>1/30/2020</td>\n",
              "      <td>ACE Medical Center</td>\n",
              "      <td>9.634451</td>\n",
              "      <td>123.869198</td>\n",
              "      <td></td>\n",
              "      <td></td>\n",
              "      <td>1/29/2020 16:00</td>\n",
              "      <td>[]</td>\n",
              "      <td>0</td>\n",
              "    </tr>\n",
              "  </tbody>\n",
              "</table>\n",
              "</div>"
            ],
            "text/plain": [
              "  case_no age     sex  ...             date contacts num_contacts\n",
              "0   PH501  60    Male  ...                        []            0\n",
              "1     PH1  38  Female  ...  1/29/2020 16:00    [PH2]            1\n",
              "2   PH502  56  Female  ...                        []            0\n",
              "3     PH2  44    Male  ...  1/29/2020 16:00    [PH1]            1\n",
              "4     PH3  60  Female  ...  1/29/2020 16:00       []            0\n",
              "\n",
              "[5 rows x 16 columns]"
            ]
          },
          "metadata": {
            "tags": []
          },
          "execution_count": 4
        }
      ]
    },
    {
      "cell_type": "code",
      "metadata": {
        "id": "0xh46jnf7vY1",
        "colab_type": "code",
        "outputId": "b5a002e0-ef65-4506-d608-2a32614af1fb",
        "colab": {
          "base_uri": "https://localhost:8080/",
          "height": 34
        }
      },
      "source": [
        "df.shape"
      ],
      "execution_count": 0,
      "outputs": [
        {
          "output_type": "execute_result",
          "data": {
            "text/plain": [
              "(707, 16)"
            ]
          },
          "metadata": {
            "tags": []
          },
          "execution_count": 12
        }
      ]
    },
    {
      "cell_type": "code",
      "metadata": {
        "id": "vb34XP2LLNy8",
        "colab_type": "code",
        "outputId": "39c4c810-af0b-41af-9a97-a7c8d7f52fd8",
        "colab": {
          "base_uri": "https://localhost:8080/",
          "height": 85
        }
      },
      "source": [
        "df.columns"
      ],
      "execution_count": 0,
      "outputs": [
        {
          "output_type": "execute_result",
          "data": {
            "text/plain": [
              "Index(['case_no', 'age', 'sex', 'nationality', 'residence', 'travel_history',\n",
              "       'symptoms', 'confirmation_date', 'facility', 'latitude', 'longitude',\n",
              "       'status', 'epi_link', 'date', 'contacts', 'num_contacts'],\n",
              "      dtype='object')"
            ]
          },
          "metadata": {
            "tags": []
          },
          "execution_count": 5
        }
      ]
    },
    {
      "cell_type": "markdown",
      "metadata": {
        "id": "cFRxqM7jTFQS",
        "colab_type": "text"
      },
      "source": [
        "# Save data as a csv"
      ]
    },
    {
      "cell_type": "code",
      "metadata": {
        "id": "Rwm5YOLaTOZu",
        "colab_type": "code",
        "colab": {}
      },
      "source": [
        "from google.colab import files"
      ],
      "execution_count": 0,
      "outputs": []
    },
    {
      "cell_type": "code",
      "metadata": {
        "id": "6iHfmyAYIs-z",
        "colab_type": "code",
        "colab": {}
      },
      "source": [
        "df = get_cases()\n",
        "df.to_csv('phcovid_cases.csv', index=False)"
      ],
      "execution_count": 0,
      "outputs": []
    },
    {
      "cell_type": "code",
      "metadata": {
        "id": "OjQo7-dCTIK1",
        "colab_type": "code",
        "colab": {}
      },
      "source": [
        "files.download('phcovid_cases.csv')"
      ],
      "execution_count": 0,
      "outputs": []
    },
    {
      "cell_type": "code",
      "metadata": {
        "id": "gbK4EgfeTT0H",
        "colab_type": "code",
        "colab": {}
      },
      "source": [
        ""
      ],
      "execution_count": 0,
      "outputs": []
    }
  ]
}