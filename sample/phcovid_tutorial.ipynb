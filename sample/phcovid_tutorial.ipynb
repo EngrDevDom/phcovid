{
  "nbformat": 4,
  "nbformat_minor": 0,
  "metadata": {
    "colab": {
      "name": "phcovid_tutorial.ipynb",
      "provenance": [],
      "collapsed_sections": [],
      "authorship_tag": "ABX9TyNtXeyTscNJidPxFalK8A+N",
      "include_colab_link": true
    },
    "kernelspec": {
      "name": "python3",
      "display_name": "Python 3"
    }
  },
  "cells": [
    {
      "cell_type": "markdown",
      "metadata": {
        "id": "view-in-github",
        "colab_type": "text"
      },
      "source": [
        "<a href=\"https://colab.research.google.com/github/enzoampil/phcovid/blob/master/sample/phcovid_tutorial.ipynb\" target=\"_parent\"><img src=\"https://colab.research.google.com/assets/colab-badge.svg\" alt=\"Open In Colab\"/></a>"
      ]
    },
    {
      "cell_type": "markdown",
      "metadata": {
        "id": "ItVAARHIS9aO",
        "colab_type": "text"
      },
      "source": [
        "# Setup"
      ]
    },
    {
      "cell_type": "code",
      "metadata": {
        "id": "n9GIfOEnjYhW",
        "colab_type": "code",
        "outputId": "43a7c88b-df4f-42e0-b92a-27cb43eb5502",
        "colab": {
          "base_uri": "https://localhost:8080/",
          "height": 599
        }
      },
      "source": [
        "!pip install phcovid"
      ],
      "execution_count": 1,
      "outputs": [
        {
          "output_type": "stream",
          "text": [
            "Collecting phcovid\n",
            "  Downloading https://files.pythonhosted.org/packages/76/62/d732e326a5d4bb7bf3281ef932ebf1bb7cd0922143a6aa5350329487aeeb/phcovid-0.0.2.6-py3-none-any.whl\n",
            "Collecting beautifulsoup4==4.8.2\n",
            "\u001b[?25l  Downloading https://files.pythonhosted.org/packages/cb/a1/c698cf319e9cfed6b17376281bd0efc6bfc8465698f54170ef60a485ab5d/beautifulsoup4-4.8.2-py3-none-any.whl (106kB)\n",
            "\u001b[K     |████████████████████████████████| 112kB 2.1MB/s \n",
            "\u001b[?25hRequirement already satisfied: pandas==1.0.3 in /usr/local/lib/python3.6/dist-packages (from phcovid) (1.0.3)\n",
            "Collecting matplotlib==3.1.2\n",
            "\u001b[?25l  Downloading https://files.pythonhosted.org/packages/4e/11/06958a2b895a3853206dea1fb2a5b11bf044f626f90745987612af9c8f2c/matplotlib-3.1.2-cp36-cp36m-manylinux1_x86_64.whl (13.1MB)\n",
            "\u001b[K     |████████████████████████████████| 13.1MB 306kB/s \n",
            "\u001b[?25hCollecting soupsieve>=1.2\n",
            "  Downloading https://files.pythonhosted.org/packages/05/cf/ea245e52f55823f19992447b008bcbb7f78efc5960d77f6c34b5b45b36dd/soupsieve-2.0-py2.py3-none-any.whl\n",
            "Requirement already satisfied: numpy>=1.13.3 in /usr/local/lib/python3.6/dist-packages (from pandas==1.0.3->phcovid) (1.18.2)\n",
            "Requirement already satisfied: pytz>=2017.2 in /usr/local/lib/python3.6/dist-packages (from pandas==1.0.3->phcovid) (2018.9)\n",
            "Requirement already satisfied: python-dateutil>=2.6.1 in /usr/local/lib/python3.6/dist-packages (from pandas==1.0.3->phcovid) (2.8.1)\n",
            "Requirement already satisfied: pyparsing!=2.0.4,!=2.1.2,!=2.1.6,>=2.0.1 in /usr/local/lib/python3.6/dist-packages (from matplotlib==3.1.2->phcovid) (2.4.6)\n",
            "Requirement already satisfied: kiwisolver>=1.0.1 in /usr/local/lib/python3.6/dist-packages (from matplotlib==3.1.2->phcovid) (1.1.0)\n",
            "Requirement already satisfied: cycler>=0.10 in /usr/local/lib/python3.6/dist-packages (from matplotlib==3.1.2->phcovid) (0.10.0)\n",
            "Requirement already satisfied: six>=1.5 in /usr/local/lib/python3.6/dist-packages (from python-dateutil>=2.6.1->pandas==1.0.3->phcovid) (1.12.0)\n",
            "Requirement already satisfied: setuptools in /usr/local/lib/python3.6/dist-packages (from kiwisolver>=1.0.1->matplotlib==3.1.2->phcovid) (46.0.0)\n",
            "\u001b[31mERROR: albumentations 0.1.12 has requirement imgaug<0.2.7,>=0.2.5, but you'll have imgaug 0.2.9 which is incompatible.\u001b[0m\n",
            "Installing collected packages: soupsieve, beautifulsoup4, matplotlib, phcovid\n",
            "  Found existing installation: beautifulsoup4 4.6.3\n",
            "    Uninstalling beautifulsoup4-4.6.3:\n",
            "      Successfully uninstalled beautifulsoup4-4.6.3\n",
            "  Found existing installation: matplotlib 3.2.1\n",
            "    Uninstalling matplotlib-3.2.1:\n",
            "      Successfully uninstalled matplotlib-3.2.1\n",
            "Successfully installed beautifulsoup4-4.8.2 matplotlib-3.1.2 phcovid-0.0.2.6 soupsieve-2.0\n"
          ],
          "name": "stdout"
        },
        {
          "output_type": "display_data",
          "data": {
            "application/vnd.colab-display-data+json": {
              "pip_warning": {
                "packages": [
                  "matplotlib",
                  "mpl_toolkits"
                ]
              }
            }
          },
          "metadata": {
            "tags": []
          }
        }
      ]
    },
    {
      "cell_type": "code",
      "metadata": {
        "id": "UxcvgaPtjddL",
        "colab_type": "code",
        "colab": {}
      },
      "source": [
        "from phcovid import get_cases\n",
        "from matplotlib import pyplot as plt\n",
        "import numpy as np"
      ],
      "execution_count": 0,
      "outputs": []
    },
    {
      "cell_type": "markdown",
      "metadata": {
        "id": "EM6wWjL3TBvt",
        "colab_type": "text"
      },
      "source": [
        "# Get data"
      ]
    },
    {
      "cell_type": "code",
      "metadata": {
        "id": "caxajsCujnkO",
        "colab_type": "code",
        "outputId": "5385e7a5-9b22-46aa-e0fc-a85ebd1e876f",
        "colab": {
          "base_uri": "https://localhost:8080/",
          "height": 51
        }
      },
      "source": [
        "%%time\n",
        "df = get_cases()"
      ],
      "execution_count": 3,
      "outputs": [
        {
          "output_type": "stream",
          "text": [
            "CPU times: user 15.7 s, sys: 191 ms, total: 15.9 s\n",
            "Wall time: 21.2 s\n"
          ],
          "name": "stdout"
        }
      ]
    },
    {
      "cell_type": "code",
      "metadata": {
        "id": "Tc2xXPB7jo0p",
        "colab_type": "code",
        "outputId": "fa40e474-38bd-403e-9fda-8d5e2df87b6d",
        "colab": {
          "base_uri": "https://localhost:8080/",
          "height": 462
        }
      },
      "source": [
        "df.head()"
      ],
      "execution_count": 4,
      "outputs": [
        {
          "output_type": "execute_result",
          "data": {
            "text/html": [
              "<div>\n",
              "<style scoped>\n",
              "    .dataframe tbody tr th:only-of-type {\n",
              "        vertical-align: middle;\n",
              "    }\n",
              "\n",
              "    .dataframe tbody tr th {\n",
              "        vertical-align: top;\n",
              "    }\n",
              "\n",
              "    .dataframe thead th {\n",
              "        text-align: right;\n",
              "    }\n",
              "</style>\n",
              "<table border=\"1\" class=\"dataframe\">\n",
              "  <thead>\n",
              "    <tr style=\"text-align: right;\">\n",
              "      <th></th>\n",
              "      <th>case_no</th>\n",
              "      <th>age</th>\n",
              "      <th>sex</th>\n",
              "      <th>nationality</th>\n",
              "      <th>residence</th>\n",
              "      <th>travel_history</th>\n",
              "      <th>symptoms</th>\n",
              "      <th>confirmation_date</th>\n",
              "      <th>facility</th>\n",
              "      <th>latitude</th>\n",
              "      <th>longitude</th>\n",
              "      <th>status</th>\n",
              "      <th>epi_link</th>\n",
              "      <th>date</th>\n",
              "      <th>case_no_num</th>\n",
              "      <th>final_status_date</th>\n",
              "      <th>announcement_date</th>\n",
              "      <th>contacts</th>\n",
              "      <th>num_contacts</th>\n",
              "      <th>contacts_num</th>\n",
              "    </tr>\n",
              "  </thead>\n",
              "  <tbody>\n",
              "    <tr>\n",
              "      <th>0</th>\n",
              "      <td>PH1</td>\n",
              "      <td>38</td>\n",
              "      <td>F</td>\n",
              "      <td>Chinese</td>\n",
              "      <td>CHINA</td>\n",
              "      <td>Yes (China); Wife of PH2</td>\n",
              "      <td>NaN</td>\n",
              "      <td>2020-01-30</td>\n",
              "      <td>San Lazaro Hospital</td>\n",
              "      <td>14.613754</td>\n",
              "      <td>120.980815</td>\n",
              "      <td>Recovered</td>\n",
              "      <td></td>\n",
              "      <td>2020-01-29 16:00:00</td>\n",
              "      <td>1</td>\n",
              "      <td>2020-02-08</td>\n",
              "      <td>2020-01-30</td>\n",
              "      <td>[PH2]</td>\n",
              "      <td>1</td>\n",
              "      <td>[2]</td>\n",
              "    </tr>\n",
              "    <tr>\n",
              "      <th>1</th>\n",
              "      <td>PH2</td>\n",
              "      <td>44</td>\n",
              "      <td>M</td>\n",
              "      <td>Chinese</td>\n",
              "      <td>CHINA</td>\n",
              "      <td>Yes (China); Husband of PH1</td>\n",
              "      <td>Fever, Cough, Sore throat</td>\n",
              "      <td>2020-01-30</td>\n",
              "      <td>San Lazaro Hospital</td>\n",
              "      <td>14.613754</td>\n",
              "      <td>120.980815</td>\n",
              "      <td>Expired</td>\n",
              "      <td></td>\n",
              "      <td>2020-01-29 16:00:00</td>\n",
              "      <td>2</td>\n",
              "      <td>2020-02-01</td>\n",
              "      <td>2020-02-02</td>\n",
              "      <td>[PH1]</td>\n",
              "      <td>1</td>\n",
              "      <td>[1]</td>\n",
              "    </tr>\n",
              "    <tr>\n",
              "      <th>2</th>\n",
              "      <td>PH3</td>\n",
              "      <td>60</td>\n",
              "      <td>F</td>\n",
              "      <td>Chinese</td>\n",
              "      <td>CHINA</td>\n",
              "      <td>Yes (China)</td>\n",
              "      <td>NaN</td>\n",
              "      <td>2020-01-30</td>\n",
              "      <td>ACE Medical Center</td>\n",
              "      <td>14.615867</td>\n",
              "      <td>120.980991</td>\n",
              "      <td>Recovered</td>\n",
              "      <td></td>\n",
              "      <td>2020-01-29 16:00:00</td>\n",
              "      <td>3</td>\n",
              "      <td>2020-03-15</td>\n",
              "      <td>2020-02-05</td>\n",
              "      <td>[]</td>\n",
              "      <td>0</td>\n",
              "      <td>[]</td>\n",
              "    </tr>\n",
              "    <tr>\n",
              "      <th>3</th>\n",
              "      <td>PH4</td>\n",
              "      <td>48</td>\n",
              "      <td>M</td>\n",
              "      <td>Filipino</td>\n",
              "      <td>Taguig City, NCR, Fourth District</td>\n",
              "      <td>Yes (Japan)</td>\n",
              "      <td>Fever</td>\n",
              "      <td>2020-03-05</td>\n",
              "      <td>University of the East Ramon Magsaysay Memoria...</td>\n",
              "      <td>14.607030</td>\n",
              "      <td>121.020581</td>\n",
              "      <td>Recovered</td>\n",
              "      <td></td>\n",
              "      <td>2020-03-04 16:00:00</td>\n",
              "      <td>4</td>\n",
              "      <td>2020-03-19</td>\n",
              "      <td>2020-03-06</td>\n",
              "      <td>[]</td>\n",
              "      <td>0</td>\n",
              "      <td>[]</td>\n",
              "    </tr>\n",
              "    <tr>\n",
              "      <th>4</th>\n",
              "      <td>PH5</td>\n",
              "      <td>62</td>\n",
              "      <td>M</td>\n",
              "      <td>Filipino</td>\n",
              "      <td>Cainta, Rizal</td>\n",
              "      <td>Husband of PH6</td>\n",
              "      <td>Cough</td>\n",
              "      <td>2020-03-05</td>\n",
              "      <td>Research Institute for Tropical Medicine</td>\n",
              "      <td>14.409523</td>\n",
              "      <td>121.037122</td>\n",
              "      <td>Expired</td>\n",
              "      <td></td>\n",
              "      <td>2020-03-04 16:00:00</td>\n",
              "      <td>5</td>\n",
              "      <td>2020-03-12</td>\n",
              "      <td>2020-03-06</td>\n",
              "      <td>[PH6]</td>\n",
              "      <td>1</td>\n",
              "      <td>[6]</td>\n",
              "    </tr>\n",
              "  </tbody>\n",
              "</table>\n",
              "</div>"
            ],
            "text/plain": [
              "  case_no age sex  ... contacts num_contacts contacts_num\n",
              "0     PH1  38   F  ...    [PH2]            1          [2]\n",
              "1     PH2  44   M  ...    [PH1]            1          [1]\n",
              "2     PH3  60   F  ...       []            0           []\n",
              "3     PH4  48   M  ...       []            0           []\n",
              "4     PH5  62   M  ...    [PH6]            1          [6]\n",
              "\n",
              "[5 rows x 20 columns]"
            ]
          },
          "metadata": {
            "tags": []
          },
          "execution_count": 4
        }
      ]
    },
    {
      "cell_type": "code",
      "metadata": {
        "id": "JXX3tBTU6fKB",
        "colab_type": "code",
        "outputId": "b43038e7-0644-4f73-a0c9-ef7b4177c1f3",
        "colab": {
          "base_uri": "https://localhost:8080/",
          "height": 34
        }
      },
      "source": [
        "df.status.unique()"
      ],
      "execution_count": 6,
      "outputs": [
        {
          "output_type": "execute_result",
          "data": {
            "text/plain": [
              "array(['Recovered', 'Expired', 'Admitted'], dtype=object)"
            ]
          },
          "metadata": {
            "tags": []
          },
          "execution_count": 6
        }
      ]
    },
    {
      "cell_type": "code",
      "metadata": {
        "id": "0xh46jnf7vY1",
        "colab_type": "code",
        "outputId": "4e219dae-70a9-4114-c9ca-d69b46ebef1b",
        "colab": {
          "base_uri": "https://localhost:8080/",
          "height": 34
        }
      },
      "source": [
        "df.shape"
      ],
      "execution_count": 7,
      "outputs": [
        {
          "output_type": "execute_result",
          "data": {
            "text/plain": [
              "(2311, 20)"
            ]
          },
          "metadata": {
            "tags": []
          },
          "execution_count": 7
        }
      ]
    },
    {
      "cell_type": "code",
      "metadata": {
        "id": "vb34XP2LLNy8",
        "colab_type": "code",
        "outputId": "dd77983c-51fa-4c6b-974a-63cdfd20af0b",
        "colab": {
          "base_uri": "https://localhost:8080/",
          "height": 102
        }
      },
      "source": [
        "df.columns"
      ],
      "execution_count": 8,
      "outputs": [
        {
          "output_type": "execute_result",
          "data": {
            "text/plain": [
              "Index(['case_no', 'age', 'sex', 'nationality', 'residence', 'travel_history',\n",
              "       'symptoms', 'confirmation_date', 'facility', 'latitude', 'longitude',\n",
              "       'status', 'epi_link', 'date', 'case_no_num', 'final_status_date',\n",
              "       'announcement_date', 'contacts', 'num_contacts', 'contacts_num'],\n",
              "      dtype='object')"
            ]
          },
          "metadata": {
            "tags": []
          },
          "execution_count": 8
        }
      ]
    },
    {
      "cell_type": "markdown",
      "metadata": {
        "id": "cFRxqM7jTFQS",
        "colab_type": "text"
      },
      "source": [
        "# Save data as a csv"
      ]
    },
    {
      "cell_type": "code",
      "metadata": {
        "id": "Rwm5YOLaTOZu",
        "colab_type": "code",
        "colab": {}
      },
      "source": [
        "from google.colab import files"
      ],
      "execution_count": 0,
      "outputs": []
    },
    {
      "cell_type": "code",
      "metadata": {
        "id": "6iHfmyAYIs-z",
        "colab_type": "code",
        "colab": {}
      },
      "source": [
        "df = get_cases()\n",
        "df.to_csv('phcovid_cases.csv', index=False)"
      ],
      "execution_count": 0,
      "outputs": []
    },
    {
      "cell_type": "code",
      "metadata": {
        "id": "OjQo7-dCTIK1",
        "colab_type": "code",
        "colab": {}
      },
      "source": [
        "files.download('phcovid_cases.csv')"
      ],
      "execution_count": 0,
      "outputs": []
    },
    {
      "cell_type": "code",
      "metadata": {
        "id": "gbK4EgfeTT0H",
        "colab_type": "code",
        "colab": {}
      },
      "source": [
        ""
      ],
      "execution_count": 0,
      "outputs": []
    },
    {
      "cell_type": "markdown",
      "metadata": {
        "id": "ZJt8dLXakvEf",
        "colab_type": "text"
      },
      "source": [
        "# Plot cases over time"
      ]
    },
    {
      "cell_type": "code",
      "metadata": {
        "id": "fk6CDP7BkxSY",
        "colab_type": "code",
        "colab": {}
      },
      "source": [
        "cases = df.groupby('announcement_date').agg({'case_no': 'count'})\n",
        "cases.columns = ['new_cases']\n",
        "cases['total_cases'] = cases.cumsum()\n",
        "cases['log_total_cases'] = np.log10(cases.total_cases.values)\n",
        "cases['log_new_cases'] = np.log10(cases.new_cases.values)"
      ],
      "execution_count": 0,
      "outputs": []
    },
    {
      "cell_type": "code",
      "metadata": {
        "id": "pBgqq-R1kxVC",
        "colab_type": "code",
        "outputId": "86608201-ebb0-425b-a63a-5f7abf3c5714",
        "colab": {
          "base_uri": "https://localhost:8080/",
          "height": 471
        }
      },
      "source": [
        "cases[['new_cases', 'total_cases']].plot(figsize=(12, 7))\n",
        "plt.title(\"New cases vs total COVID-19 cases in PH\", fontsize=20)"
      ],
      "execution_count": 10,
      "outputs": [
        {
          "output_type": "execute_result",
          "data": {
            "text/plain": [
              "Text(0.5, 1.0, 'New cases vs total COVID-19 cases in PH')"
            ]
          },
          "metadata": {
            "tags": []
          },
          "execution_count": 10
        },
        {
          "output_type": "display_data",
          "data": {
            "image/png": "[encoded data removed]",
            "text/plain": [
              "<Figure size 864x504 with 1 Axes>"
            ]
          },
          "metadata": {
            "tags": []
          }
        }
      ]
    },
    {
      "cell_type": "code",
      "metadata": {
        "id": "K5NMxO6Rmg0q",
        "colab_type": "code",
        "outputId": "af4528d7-97d9-48be-a11a-d923a140614c",
        "colab": {
          "base_uri": "https://localhost:8080/",
          "height": 481
        }
      },
      "source": [
        "ax = cases[['log_new_cases', 'log_total_cases']].plot.scatter(1, 0, figsize=(12, 7))\n",
        "plt.title(\"Log New Cases vs Log Total Cases PH\", fontsize=20)"
      ],
      "execution_count": 11,
      "outputs": [
        {
          "output_type": "execute_result",
          "data": {
            "text/plain": [
              "Text(0.5, 1.0, 'Log New Cases vs Log Total Cases PH')"
            ]
          },
          "metadata": {
            "tags": []
          },
          "execution_count": 11
        },
        {
          "output_type": "display_data",
          "data": {
            "image/png": "[encoded data removed]",
            "text/plain": [
              "<Figure size 864x504 with 1 Axes>"
            ]
          },
          "metadata": {
            "tags": []
          }
        }
      ]
    },
    {
      "cell_type": "markdown",
      "metadata": {
        "id": "blknZXZVizLh",
        "colab_type": "text"
      },
      "source": [
        "# Plot age distribution"
      ]
    },
    {
      "cell_type": "code",
      "metadata": {
        "id": "Wro9jnUQo3Hp",
        "colab_type": "code",
        "colab": {
          "base_uri": "https://localhost:8080/",
          "height": 466
        },
        "outputId": "e0d258bf-42c4-4261-9b6c-dbe979da3109"
      },
      "source": [
        "df.age[df.age != 'for_validation'].astype(int).hist(figsize=(12, 7))\n",
        "last_announcement_date = df.announcement_date.max().date().strftime('%Y-%m-%d')\n",
        "plt.title(\"Age Distribution of Confirmed Cases in PH (as of {})\".format(last_announcement_date), fontsize=20)"
      ],
      "execution_count": 30,
      "outputs": [
        {
          "output_type": "execute_result",
          "data": {
            "text/plain": [
              "Text(0.5, 1.0, 'Age Distribution of Confirmed Cases in PH (as of 2020-04-01)')"
            ]
          },
          "metadata": {
            "tags": []
          },
          "execution_count": 30
        },
        {
          "output_type": "display_data",
          "data": {
            "image/png": "[encoded data removed]",
            "text/plain": [
              "<Figure size 864x504 with 1 Axes>"
            ]
          },
          "metadata": {
            "tags": []
          }
        }
      ]
    },
    {
      "cell_type": "code",
      "metadata": {
        "id": "cZMTK1UHi2Si",
        "colab_type": "code",
        "colab": {
          "base_uri": "https://localhost:8080/",
          "height": 34
        },
        "outputId": "a442565e-6c66-466a-8a4c-0077129d39b0"
      },
      "source": [
        ""
      ],
      "execution_count": 29,
      "outputs": [
        {
          "output_type": "execute_result",
          "data": {
            "text/plain": [
              "'2020-04-01'"
            ]
          },
          "metadata": {
            "tags": []
          },
          "execution_count": 29
        }
      ]
    },
    {
      "cell_type": "code",
      "metadata": {
        "id": "A3JnVdRRkyRb",
        "colab_type": "code",
        "colab": {}
      },
      "source": [
        ""
      ],
      "execution_count": 0,
      "outputs": []
    }
  ]
}